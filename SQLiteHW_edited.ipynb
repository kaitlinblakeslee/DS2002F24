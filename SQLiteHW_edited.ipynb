{
  "nbformat": 4,
  "nbformat_minor": 0,
  "metadata": {
    "colab": {
      "provenance": [],
      "authorship_tag": "ABX9TyPwSxjNfVbJzGy81/PKLkrd",
      "include_colab_link": true
    },
    "kernelspec": {
      "name": "python3",
      "display_name": "Python 3"
    },
    "language_info": {
      "name": "python"
    }
  },
  "cells": [
    {
      "cell_type": "markdown",
      "metadata": {
        "id": "view-in-github",
        "colab_type": "text"
      },
      "source": [
        "<a href=\"https://colab.research.google.com/github/kaitlinblakeslee/DS2002F24/blob/main/SQLiteHW_edited.ipynb\" target=\"_parent\"><img src=\"https://colab.research.google.com/assets/colab-badge.svg\" alt=\"Open In Colab\"/></a>"
      ]
    },
    {
      "cell_type": "code",
      "execution_count": 75,
      "metadata": {
        "colab": {
          "base_uri": "https://localhost:8080/"
        },
        "id": "s8I6K34YQ7sR",
        "outputId": "1639b348-f0af-4021-b933-85403dcd926e"
      },
      "outputs": [
        {
          "output_type": "stream",
          "name": "stdout",
          "text": [
            "Database created and connected!\n"
          ]
        }
      ],
      "source": [
        "import sqlite3\n",
        "\n",
        "# Create or connect to an SQLite database\n",
        "connection = sqlite3.connect('students_grades.db')\n",
        "\n",
        "# Check if the connection was successful\n",
        "print(\"Database created and connected!\")"
      ]
    },
    {
      "cell_type": "code",
      "source": [
        "# Create a cursor object\n",
        "cursor = connection.cursor()\n",
        "\n",
        "# Explanation\n",
        "print(\"Cursor created!\")"
      ],
      "metadata": {
        "colab": {
          "base_uri": "https://localhost:8080/"
        },
        "id": "x_OiUe9rRNQw",
        "outputId": "30d0127c-fd62-40a1-9ab0-337cef67c890"
      },
      "execution_count": 76,
      "outputs": [
        {
          "output_type": "stream",
          "name": "stdout",
          "text": [
            "Cursor created!\n"
          ]
        }
      ]
    },
    {
      "cell_type": "code",
      "source": [
        "# Create the students table\n",
        "cursor.execute('''\n",
        "CREATE TABLE IF NOT EXISTS students (\n",
        "    student_id INTEGER PRIMARY KEY AUTOINCREMENT,\n",
        "    first_name TEXT,\n",
        "    last_name TEXT\n",
        ")\n",
        "''')\n",
        "\n",
        "print(\"Students table created!\")"
      ],
      "metadata": {
        "colab": {
          "base_uri": "https://localhost:8080/"
        },
        "id": "20xaUXClRSYt",
        "outputId": "1de29909-7e6e-48bb-dc30-a7cd4d3a19e5"
      },
      "execution_count": 77,
      "outputs": [
        {
          "output_type": "stream",
          "name": "stdout",
          "text": [
            "Students table created!\n"
          ]
        }
      ]
    },
    {
      "cell_type": "code",
      "source": [
        "# Create the grades table\n",
        "cursor.execute('''\n",
        "CREATE TABLE IF NOT EXISTS grades (\n",
        "    grade_id INTEGER PRIMARY KEY AUTOINCREMENT,\n",
        "    student_id INTEGER,\n",
        "    subject TEXT,\n",
        "    grade INTEGER,\n",
        "    FOREIGN KEY (student_id) REFERENCES students(student_id)\n",
        ")\n",
        "''')\n",
        "\n",
        "print(\"Grades table created!\")"
      ],
      "metadata": {
        "colab": {
          "base_uri": "https://localhost:8080/"
        },
        "id": "xku1DxvTSHIr",
        "outputId": "d70b092d-66a0-4463-9b1e-c955cdb0f998"
      },
      "execution_count": 78,
      "outputs": [
        {
          "output_type": "stream",
          "name": "stdout",
          "text": [
            "Grades table created!\n"
          ]
        }
      ]
    },
    {
      "cell_type": "code",
      "source": [
        "# Sample data to insert into the students table\n",
        "students = [\n",
        "    (1, 'Alice', 'Johnson'),\n",
        "    (2, 'Bob', 'Smith'),\n",
        "    (3, 'Carol', 'White'),\n",
        "    (4, 'David', 'Brown'),\n",
        "    (5, 'Eve', 'Davis')\n",
        "]\n",
        "\n",
        "# Insert data into the table\n",
        "for student in students:\n",
        "    student_id, first_name, last_name = student\n",
        "    if student_id not in existing_ids:\n",
        "        cursor.execute('''\n",
        "        INSERT INTO students (student_id, first_name, last_name) VALUES (?, ?, ?)\n",
        "        ''', (student_id, first_name, last_name))\n",
        "        existing_ids.append(student_id)  # Update the list of existing IDs\n",
        "\n",
        "# Commit the transaction\n",
        "connection.commit()\n",
        "\n",
        "print(\"Data inserted into the students table!\")"
      ],
      "metadata": {
        "colab": {
          "base_uri": "https://localhost:8080/"
        },
        "id": "uel3RM2nT8CK",
        "outputId": "166266e2-5e08-4d2e-d37d-453851e18065"
      },
      "execution_count": 79,
      "outputs": [
        {
          "output_type": "stream",
          "name": "stdout",
          "text": [
            "Data inserted into the students table!\n"
          ]
        }
      ]
    },
    {
      "cell_type": "code",
      "source": [
        "# Fetch existing student IDs from the table\n",
        "#cursor.execute('SELECT student_id FROM students')\n",
        "#existing_ids = [row[0] for row in cursor.fetchall()]\n",
        "#print(\"Existing student IDs:\", existing_ids)"
      ],
      "metadata": {
        "colab": {
          "base_uri": "https://localhost:8080/"
        },
        "id": "et8e3H853eIH",
        "outputId": "6bd7d854-84a7-4e9f-cba7-842f051adc37"
      },
      "execution_count": 55,
      "outputs": [
        {
          "output_type": "stream",
          "name": "stdout",
          "text": [
            "Existing student IDs: [1, 2, 3, 4, 5]\n"
          ]
        }
      ]
    },
    {
      "cell_type": "code",
      "source": [
        "# Sample data to insert into the grades table (excluding grade_id)\n",
        "grades = [\n",
        "    (1, 'Math', 95),\n",
        "    (1, 'English', 88),\n",
        "    (1, 'History', 90),\n",
        "    (2, 'Math', 82),\n",
        "    (2, 'English', 76),\n",
        "    (2, 'History', 85)\n",
        "]\n",
        "\n",
        "# Insert data into the grades table, letting the database handle grade_id\n",
        "cursor.executemany('''\n",
        "INSERT INTO grades (student_id, subject, grade) VALUES (?, ?, ?)\n",
        "''', grades)\n",
        "\n",
        "# Commit the transaction\n",
        "connection.commit()\n",
        "\n",
        "print(\"Data inserted into the grades table!\")"
      ],
      "metadata": {
        "colab": {
          "base_uri": "https://localhost:8080/"
        },
        "id": "Zq4-mt151zJQ",
        "outputId": "19c0a16e-3fe6-42e7-a228-7f1953606437"
      },
      "execution_count": 80,
      "outputs": [
        {
          "output_type": "stream",
          "name": "stdout",
          "text": [
            "Data inserted into the grades table!\n"
          ]
        }
      ]
    },
    {
      "cell_type": "code",
      "source": [
        "# select all students names and their grades - join query\n",
        "cursor.execute('''\n",
        "SELECT students.first_name, students.last_name, grades.subject, grades.grade\n",
        "FROM students\n",
        "INNER JOIN grades ON students.student_id = grades.student_id;\n",
        "''')\n",
        "\n",
        "# Fetch and display the results\n",
        "joined_data = cursor.fetchall()\n",
        "\n",
        "# Use a set to store unique rows\n",
        "unique_rows = set(joined_data)\n",
        "\n",
        "print(\"Joined students and grades details:\")\n",
        "for row in unique_rows:\n",
        "    print(row)\n",
        "\n",
        "\n"
      ],
      "metadata": {
        "colab": {
          "base_uri": "https://localhost:8080/"
        },
        "id": "0qsHznmAv5Qv",
        "outputId": "73c8d801-3719-4b99-adb6-40f7a4849e7f"
      },
      "execution_count": 83,
      "outputs": [
        {
          "output_type": "stream",
          "name": "stdout",
          "text": [
            "Joined students and grades details:\n",
            "('Alice', 'Johnson', 'History', 90)\n",
            "('Alice', 'Johnson', 'English', 88)\n",
            "('Alice', 'Johnson', 'Math', 95)\n",
            "('Bob', 'Smith', 'History', 85)\n",
            "('Bob', 'Smith', 'English', 76)\n",
            "('Bob', 'Smith', 'Math', 82)\n"
          ]
        }
      ]
    },
    {
      "cell_type": "code",
      "source": [
        "# find the average grade for each student\n",
        "cursor.execute('''\n",
        "SELECT students.first_name, students.last_name, AVG(grades.grade) AS average_grade\n",
        "FROM students\n",
        "INNER JOIN grades ON students.student_id = grades.student_id\n",
        "GROUP BY students.student_id, students.first_name, students.last_name\n",
        "''')\n",
        "\n",
        "#display results\n",
        "joined_gradedata = cursor.fetchall()\n",
        "\n",
        "print(\"Average grade for each student:\")\n",
        "for row in joined_gradedata:\n",
        "    print(row)\n"
      ],
      "metadata": {
        "colab": {
          "base_uri": "https://localhost:8080/"
        },
        "id": "Rt2ioD5RxALw",
        "outputId": "d439d81d-e686-4afb-c431-81eb0038af7a"
      },
      "execution_count": 84,
      "outputs": [
        {
          "output_type": "stream",
          "name": "stdout",
          "text": [
            "Average grade for each student:\n",
            "('Alice', 'Johnson', 91.0)\n",
            "('Bob', 'Smith', 81.0)\n"
          ]
        }
      ]
    },
    {
      "cell_type": "code",
      "source": [
        "# find the student with the highest average grade\n",
        "cursor.execute('''\n",
        "SELECT students.first_name, students.last_name, AVG(grades.grade) AS average_grade\n",
        "FROM students\n",
        "INNER JOIN grades ON students.student_id = grades.student_id\n",
        "GROUP BY students.student_id, students.first_name, students.last_name\n",
        "ORDER BY average_grade DESC\n",
        "LIMIT 1\n",
        "''')\n",
        "\n",
        "# get the result\n",
        "result = cursor.fetchone()\n",
        "\n",
        "# Print the result\n",
        "if result:\n",
        "    print(f\"Student with highest average grade: {result[0]} {result[1]}\")\n",
        "else:\n",
        "    print(\"No results found.\")"
      ],
      "metadata": {
        "colab": {
          "base_uri": "https://localhost:8080/"
        },
        "id": "3RpDX1UYyC2W",
        "outputId": "0cea0457-b7fb-436e-cc15-202bbe27732b"
      },
      "execution_count": 85,
      "outputs": [
        {
          "output_type": "stream",
          "name": "stdout",
          "text": [
            "Student with highest average grade: Alice Johnson\n"
          ]
        }
      ]
    },
    {
      "cell_type": "code",
      "source": [
        "#find average math grade\n",
        "cursor.execute('''\n",
        "SELECT AVG(grade) AS avg_mathgrade\n",
        "FROM grades WHERE subject = 'Math'\n",
        "''')\n",
        "\n",
        "average_mathgrade = cursor.fetchone()[0]\n",
        "\n",
        "# Display the result\n",
        "print(f\"Average math grade: {average_mathgrade}\")"
      ],
      "metadata": {
        "colab": {
          "base_uri": "https://localhost:8080/"
        },
        "id": "yffTvTEVzYmP",
        "outputId": "0cd1227f-0cc9-4ef5-d9f5-34044f2fc051"
      },
      "execution_count": 86,
      "outputs": [
        {
          "output_type": "stream",
          "name": "stdout",
          "text": [
            "Average math grade: 88.5\n"
          ]
        }
      ]
    },
    {
      "cell_type": "code",
      "source": [
        "# list all students who scored above 90 in any subject\n",
        "cursor.execute('''\n",
        "SELECT students.first_name, students.last_name, grades.subject, grades.grade\n",
        "FROM students\n",
        "INNER JOIN grades ON students.student_id = grades.student_id\n",
        "WHERE grades.grade > 90\n",
        "''')\n",
        "\n",
        "#display results\n",
        "joined_90data = cursor.fetchall()\n",
        "\n",
        "print(\"Student who scored above 90:\")\n",
        "for row in joined_90data:\n",
        "    print(row)"
      ],
      "metadata": {
        "colab": {
          "base_uri": "https://localhost:8080/"
        },
        "id": "rUoUgKHYz5NF",
        "outputId": "93e0f1a1-c026-4344-bf00-a97d84eb6bf5"
      },
      "execution_count": 87,
      "outputs": [
        {
          "output_type": "stream",
          "name": "stdout",
          "text": [
            "Student who scored above 90:\n",
            "('Alice', 'Johnson', 'Math', 95)\n",
            "('Alice', 'Johnson', 'Math', 95)\n",
            "('Alice', 'Johnson', 'Math', 95)\n"
          ]
        }
      ]
    },
    {
      "cell_type": "code",
      "source": [
        "# Close the cursor\n",
        "cursor.close()\n",
        "\n",
        "# Explanation\n",
        "print(\"Cursor closed!\")"
      ],
      "metadata": {
        "colab": {
          "base_uri": "https://localhost:8080/"
        },
        "id": "dN48M5zNv9yx",
        "outputId": "0c3df026-d8f2-4af3-893a-75eb6b79c1d2"
      },
      "execution_count": 88,
      "outputs": [
        {
          "output_type": "stream",
          "name": "stdout",
          "text": [
            "Cursor closed!\n"
          ]
        }
      ]
    },
    {
      "cell_type": "code",
      "source": [
        "import pandas as pd\n",
        "\n",
        "# Load data from the 'students' table into a DataFrame\n",
        "students_df = pd.read_sql_query('SELECT * FROM students', connection)\n",
        "\n",
        "# Load data from the 'grades' table into a DataFrame\n",
        "grades_df = pd.read_sql_query('SELECT * FROM grades', connection)"
      ],
      "metadata": {
        "id": "g0ei0hCveKG5"
      },
      "execution_count": 70,
      "outputs": []
    },
    {
      "cell_type": "code",
      "source": [
        "# SQL query to join the students and grades tables\n",
        "query = '''\n",
        "SELECT students.first_name, students.last_name, grades.subject, grades.grade\n",
        "FROM students\n",
        "INNER JOIN grades ON students.student_id = grades.student_id;\n",
        "'''\n",
        "\n",
        "# Execute the query and load the result into a Pandas DataFrame\n",
        "combined_df = pd.read_sql_query(query, connection)\n",
        "\n",
        "#print(combined_df)"
      ],
      "metadata": {
        "id": "kzRT_6qxfmE-"
      },
      "execution_count": 71,
      "outputs": []
    },
    {
      "cell_type": "code",
      "source": [
        "import matplotlib.pyplot as plt\n",
        "\n",
        "# Calculate average grade for each student\n",
        "average_grades_df = combined_df.groupby(['first_name', 'last_name'])['grade'].mean().reset_index()\n",
        "\n",
        "average_grades_df['student_name'] = average_grades_df['first_name'] + ' ' + average_grades_df['last_name']\n",
        "\n",
        "# Plot the data\n",
        "plt.figure(figsize=(10, 6))\n",
        "plt.bar(average_grades_df['student_name'], average_grades_df['grade'], color='skyblue')\n",
        "\n",
        "# Add labels and title\n",
        "plt.xlabel('Student Name')\n",
        "plt.ylabel('Average Grade')\n",
        "plt.title('Average Grades for Each Student')\n",
        "plt.xticks(rotation=45, ha='right')  # Rotate x labels for better readability\n",
        "plt.tight_layout()  # Adjust layout to prevent overlap\n",
        "\n",
        "plt.show()\n"
      ],
      "metadata": {
        "colab": {
          "base_uri": "https://localhost:8080/",
          "height": 607
        },
        "id": "Vr7Hg9V1rNdE",
        "outputId": "079f3cbb-602c-498e-9156-1510445f5686"
      },
      "execution_count": 72,
      "outputs": [
        {
          "output_type": "display_data",
          "data": {
            "text/plain": [
              "<Figure size 1000x600 with 1 Axes>"
            ],
            "image/png": "[encoded data removed]"
          },
          "metadata": {}
        }
      ]
    },
    {
      "cell_type": "code",
      "source": [
        "import matplotlib.pyplot as plt\n",
        "\n",
        "average_grades_subject = combined_df.groupby('subject')['grade'].mean().reset_index()\n",
        "\n",
        "# Plot the data\n",
        "plt.figure(figsize=(8, 5))\n",
        "plt.bar(average_grades_subject['subject'], average_grades_subject['grade'], color='lightgreen')\n",
        "\n",
        "# Add labels and title\n",
        "plt.xlabel('Subject')\n",
        "plt.ylabel('Average Grade')\n",
        "plt.title('Average Grade for Each Subject')\n",
        "\n",
        "plt.show()"
      ],
      "metadata": {
        "colab": {
          "base_uri": "https://localhost:8080/",
          "height": 487
        },
        "id": "yWc-CL0fyZU3",
        "outputId": "b1909fcd-b429-4344-b863-677eead937b8"
      },
      "execution_count": 73,
      "outputs": [
        {
          "output_type": "display_data",
          "data": {
            "text/plain": [
              "<Figure size 800x500 with 1 Axes>"
            ],
            "image/png": "[encoded data removed]"
          },
          "metadata": {}
        }
      ]
    }
  ]
}