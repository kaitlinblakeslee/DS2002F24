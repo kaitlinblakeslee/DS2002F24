{
  "nbformat": 4,
  "nbformat_minor": 0,
  "metadata": {
    "colab": {
      "provenance": [],
      "authorship_tag": "ABX9TyPOERP/EJ+cTOk/GToOOxdw",
      "include_colab_link": true
    },
    "kernelspec": {
      "name": "python3",
      "display_name": "Python 3"
    },
    "language_info": {
      "name": "python"
    }
  },
  "cells": [
    {
      "cell_type": "markdown",
      "metadata": {
        "id": "view-in-github",
        "colab_type": "text"
      },
      "source": [
        "<a href=\"https://colab.research.google.com/github/kaitlinblakeslee/DS2002F24/blob/main/APIhw.ipynb\" target=\"_parent\"><img src=\"https://colab.research.google.com/assets/colab-badge.svg\" alt=\"Open In Colab\"/></a>"
      ]
    },
    {
      "cell_type": "code",
      "execution_count": 41,
      "metadata": {
        "id": "MM0qmx2ramH7"
      },
      "outputs": [],
      "source": [
        "import json\n",
        "import pandas as pd\n",
        "import requests"
      ]
    },
    {
      "cell_type": "code",
      "source": [
        "api_key = '' #removed key for public repo\n",
        "\n",
        "ticker = input() #enter stock ticker symbol"
      ],
      "metadata": {
        "colab": {
          "base_uri": "https://localhost:8080/"
        },
        "id": "S25jmbycdCqn",
        "outputId": "d9783913-ec25-4c44-d480-da813b3055f3"
      },
      "execution_count": 42,
      "outputs": [
        {
          "name": "stdout",
          "output_type": "stream",
          "text": [
            "AAPL\n"
          ]
        }
      ]
    },
    {
      "cell_type": "code",
      "source": [
        "#get end point\n",
        "\n",
        "url = f\"https://www.alphavantage.co/query?function=GLOBAL_QUOTE&symbol={ticker}&apikey={api_key}\"\n",
        "response = requests.get(url)\n",
        "data = response.json()"
      ],
      "metadata": {
        "id": "7p-O05PrdgOS"
      },
      "execution_count": 43,
      "outputs": []
    },
    {
      "cell_type": "code",
      "source": [
        "# Does the data exist? This is a potential way to check for erros/handle odd cases (question 4 on hw)\n",
        "if \"Global Quote\" not in data:\n",
        "    print(f\"No data found for ticker symbol {ticker}.\")\n",
        "else:\n",
        "    stock_info = data[\"Global Quote\"]\n",
        "\n",
        "# Display stock information\n",
        "# Ticker name\n",
        "# Full Name of Stock\n",
        "# Current market price\n",
        "\n",
        "print(f\"\\nStock Information for ticker {ticker}:\")\n",
        "print(f\"Full name of stock: {ticker}\")\n",
        "print(f\"Current Market Price: ${stock_info['05. price']}\")"
      ],
      "metadata": {
        "colab": {
          "base_uri": "https://localhost:8080/"
        },
        "id": "-8uqZwwsdkKt",
        "outputId": "92825d1d-8fe9-438f-dbbf-c0f4ea2a607b"
      },
      "execution_count": 44,
      "outputs": [
        {
          "output_type": "stream",
          "name": "stdout",
          "text": [
            "\n",
            "Stock Information for ticker AAPL:\n",
            "Full name of stock: AAPL\n",
            "Current Market Price: $227.7900\n"
          ]
        }
      ]
    },
    {
      "cell_type": "code",
      "source": [
        "# Target Mean Price\n",
        "# 52 week high and 52 week low\n",
        "\n",
        "apikey = \"\" #removed key for public repo\n",
        "stock_list = [\"AAPL\", \"GOOGL\", \"MSFT\"]  # Example stock symbols\n",
        "url = \"https://yfapi.net/v6/finance/quote\"\n",
        "\n",
        "# Prepare the query parameters\n",
        "querystring = {\n",
        "    \"symbols\": \",\".join(stock_list)\n",
        "}\n",
        "\n",
        "# Set the headers, including your API key\n",
        "headers = {\n",
        "    'x-api-key': apikey\n",
        "}\n",
        "\n",
        "# Make the request to the API\n",
        "response = requests.get(url, headers=headers, params=querystring)\n",
        "\n",
        "if response.status_code == 200:\n",
        "    stock_data = response.json()\n",
        "    print(\"Stock Data Response:\")\n",
        "    print(stock_data)  # Print the entire response for debugging\n",
        "\n",
        "    # Data for each stock\n",
        "    stocks_info = []\n",
        "    for stock in stock_data['quoteResponse']['result']:\n",
        "        symbol = stock.get(\"symbol\", \"N/A\")\n",
        "        target_mean_price = stock.get(\"targetMeanPrice\", \"N/A\") # for some reason I can't seem to find targetMeanPrice either which is weird because I found it in yahoo finance and know it exists\n",
        "        week_52_high = stock.get(\"fiftyTwoWeekHigh\", \"N/A\")\n",
        "        week_52_low = stock.get(\"fiftyTwoWeekLow\", \"N/A\")\n",
        "\n",
        "        stocks_info.append({\n",
        "            \"Ticker\": symbol,\n",
        "            \"Target Mean Price\": target_mean_price,\n",
        "            \"52 Week High\": week_52_high,\n",
        "            \"52 Week Low\": week_52_low\n",
        "        })\n",
        "\n",
        "# making the information into a data frame\n",
        "stocks_df = pd.DataFrame(stocks_info)\n",
        "\n",
        "# Display the DataFrame\n",
        "print(\"\\nStock Information:\")\n",
        "print(stocks_df)"
      ],
      "metadata": {
        "colab": {
          "base_uri": "https://localhost:8080/"
        },
        "id": "G5MX3PiCgiWx",
        "outputId": "52179920-e0b7-441f-faf2-bd37a5de34dc"
      },
      "execution_count": 56,
      "outputs": [
        {
          "output_type": "stream",
          "name": "stdout",
          "text": [
            "Stock Data Response:\n",
            "{'quoteResponse': {'result': [{'language': 'en-US', 'region': 'US', 'quoteType': 'EQUITY', 'typeDisp': 'Equity', 'quoteSourceName': 'Nasdaq Real Time Price', 'triggerable': True, 'customPriceAlertConfidence': 'HIGH', 'currency': 'USD', 'hasPrePostMarketData': True, 'firstTradeDateMilliseconds': 345479400000, 'priceHint': 2, 'postMarketChangePercent': -0.127307, 'postMarketTime': 1727481596, 'postMarketPrice': 227.5, 'postMarketChange': -0.289993, 'regularMarketChange': 0.20500183, 'regularMarketTime': 1727467204, 'regularMarketDayHigh': 229.52, 'regularMarketDayRange': '227.3 - 229.52', 'regularMarketDayLow': 227.3, 'regularMarketVolume': 34025967, 'regularMarketPreviousClose': 227.52, 'bid': 227.59, 'ask': 240.09, 'bidSize': 5, 'askSize': 1, 'fullExchangeName': 'NasdaqGS', 'financialCurrency': 'USD', 'regularMarketOpen': 228.43, 'averageDailyVolume3Month': 54814806, 'averageDailyVolume10Day': 76087390, 'fiftyTwoWeekLowChange': 63.645004, 'fiftyTwoWeekLowChangePercent': 0.38789007, 'fiftyTwoWeekRange': '164.08 - 237.23', 'fiftyTwoWeekHighChange': -9.50499, 'fiftyTwoWeekHighChangePercent': -0.04006656, 'fiftyTwoWeekLow': 164.08, 'fiftyTwoWeekHigh': 237.23, 'fiftyTwoWeekChangePercent': 31.102158, 'dividendDate': 1723680000, 'earningsTimestamp': 1722544200, 'marketState': 'CLOSED', 'exchange': 'NMS', 'shortName': 'Apple Inc.', 'longName': 'Apple Inc.', 'messageBoardId': 'finmb_24937', 'exchangeTimezoneName': 'America/New_York', 'exchangeTimezoneShortName': 'EDT', 'gmtOffSetMilliseconds': -14400000, 'market': 'us_market', 'esgPopulated': False, 'regularMarketChangePercent': 0.09010277, 'regularMarketPrice': 227.725, 'earningsTimestampStart': 1730372340, 'earningsTimestampEnd': 1730721600, 'earningsCallTimestampStart': 1722546000, 'earningsCallTimestampEnd': 1722546000, 'isEarningsDateEstimate': True, 'trailingAnnualDividendRate': 0.97, 'trailingPE': 34.714176, 'dividendRate': 1.0, 'trailingAnnualDividendYield': 0.0042633615, 'dividendYield': 0.44, 'epsTrailingTwelveMonths': 6.56, 'epsForward': 7.48, 'epsCurrentYear': 6.7, 'priceEpsCurrentYear': 33.988808, 'sharesOutstanding': 15204100096, 'bookValue': 4.382, 'fiftyDayAverage': 222.0918, 'fiftyDayAverageChange': 5.633209, 'fiftyDayAverageChangePercent': 0.025364328, 'twoHundredDayAverage': 197.18105, 'twoHundredDayAverageChange': 30.54396, 'twoHundredDayAverageChangePercent': 0.15490313, 'marketCap': 3462353911808, 'forwardPE': 30.444519, 'priceToBook': 51.96828, 'sourceInterval': 15, 'exchangeDataDelayedBy': 0, 'averageAnalystRating': '2.0 - Buy', 'tradeable': False, 'cryptoTradeable': False, 'displayName': 'Apple', 'symbol': 'AAPL'}, {'language': 'en-US', 'region': 'US', 'quoteType': 'EQUITY', 'typeDisp': 'Equity', 'quoteSourceName': 'Nasdaq Real Time Price', 'triggerable': True, 'customPriceAlertConfidence': 'HIGH', 'currency': 'USD', 'hasPrePostMarketData': True, 'firstTradeDateMilliseconds': 1092922200000, 'priceHint': 2, 'postMarketChangePercent': -0.296548, 'postMarketTime': 1727481589, 'postMarketPrice': 163.464, 'postMarketChange': -0.486191, 'regularMarketChange': 1.2200012, 'regularMarketTime': 1727467201, 'regularMarketDayHigh': 165.7, 'regularMarketDayRange': '162.6261 - 165.7', 'regularMarketDayLow': 162.6261, 'regularMarketVolume': 21101307, 'regularMarketPreviousClose': 162.73, 'bid': 163.88, 'ask': 163.95, 'bidSize': 1, 'askSize': 2, 'fullExchangeName': 'NasdaqGS', 'financialCurrency': 'USD', 'regularMarketOpen': 162.81, 'averageDailyVolume3Month': 25223231, 'averageDailyVolume10Day': 23802270, 'fiftyTwoWeekLowChange': 43.739998, 'fiftyTwoWeekLowChangePercent': 0.36386323, 'fiftyTwoWeekRange': '120.21 - 191.75', 'fiftyTwoWeekHighChange': -27.800003, 'fiftyTwoWeekHighChangePercent': -0.14498046, 'fiftyTwoWeekLow': 120.21, 'fiftyTwoWeekHigh': 191.75, 'fiftyTwoWeekChangePercent': 22.19572, 'dividendDate': 1726444800, 'earningsTimestamp': 1721764800, 'marketState': 'CLOSED', 'exchange': 'NMS', 'shortName': 'Alphabet Inc.', 'longName': 'Alphabet Inc.', 'messageBoardId': 'finmb_29096', 'exchangeTimezoneName': 'America/New_York', 'exchangeTimezoneShortName': 'EDT', 'gmtOffSetMilliseconds': -14400000, 'market': 'us_market', 'esgPopulated': False, 'regularMarketChangePercent': 0.7497089, 'regularMarketPrice': 163.95, 'earningsTimestampStart': 1729627200, 'earningsTimestampEnd': 1730145600, 'earningsCallTimestampStart': 1721766600, 'earningsCallTimestampEnd': 1721766600, 'isEarningsDateEstimate': True, 'trailingAnnualDividendRate': 0.2, 'trailingPE': 23.522238, 'dividendRate': 0.8, 'trailingAnnualDividendYield': 0.0012290297, 'dividendYield': 0.49, 'epsTrailingTwelveMonths': 6.97, 'epsForward': 8.71, 'epsCurrentYear': 7.65, 'priceEpsCurrentYear': 21.431372, 'sharesOutstanding': 5858999808, 'bookValue': 24.408, 'fiftyDayAverage': 163.1184, 'fiftyDayAverageChange': 0.831604, 'fiftyDayAverageChangePercent': 0.005098162, 'twoHundredDayAverage': 158.4995, 'twoHundredDayAverageChange': 5.4505005, 'twoHundredDayAverageChangePercent': 0.034388125, 'marketCap': 2025700589568, 'forwardPE': 18.82319, 'priceToBook': 6.7170596, 'sourceInterval': 15, 'exchangeDataDelayedBy': 0, 'averageAnalystRating': '1.9 - Buy', 'tradeable': False, 'cryptoTradeable': False, 'symbol': 'GOOGL'}, {'language': 'en-US', 'region': 'US', 'quoteType': 'EQUITY', 'typeDisp': 'Equity', 'quoteSourceName': 'Nasdaq Real Time Price', 'triggerable': True, 'customPriceAlertConfidence': 'HIGH', 'currency': 'USD', 'hasPrePostMarketData': True, 'firstTradeDateMilliseconds': 511108200000, 'priceHint': 2, 'postMarketChangePercent': -0.163539, 'postMarketTime': 1727481598, 'postMarketPrice': 427.32, 'postMarketChange': -0.699982, 'regularMarketChange': -3.2900085, 'regularMarketTime': 1727467201, 'regularMarketDayHigh': 431.83, 'regularMarketDayRange': '427.47 - 431.83', 'regularMarketDayLow': 427.47, 'regularMarketVolume': 14896131, 'regularMarketPreviousClose': 431.31, 'bid': 427.88, 'ask': 428.02, 'bidSize': 1, 'askSize': 1, 'fullExchangeName': 'NasdaqGS', 'financialCurrency': 'USD', 'regularMarketOpen': 431.52, 'averageDailyVolume3Month': 19880549, 'averageDailyVolume10Day': 20340230, 'fiftyTwoWeekLowChange': 116.81, 'fiftyTwoWeekLowChangePercent': 0.37534142, 'fiftyTwoWeekRange': '311.21 - 468.35', 'fiftyTwoWeekHighChange': -40.330017, 'fiftyTwoWeekHighChangePercent': -0.08611085, 'fiftyTwoWeekLow': 311.21, 'fiftyTwoWeekHigh': 468.35, 'fiftyTwoWeekChangePercent': 33.008076, 'dividendDate': 1733961600, 'earningsTimestamp': 1722369600, 'marketState': 'CLOSED', 'exchange': 'NMS', 'shortName': 'Microsoft Corporation', 'longName': 'Microsoft Corporation', 'messageBoardId': 'finmb_21835', 'exchangeTimezoneName': 'America/New_York', 'exchangeTimezoneShortName': 'EDT', 'gmtOffSetMilliseconds': -14400000, 'market': 'us_market', 'esgPopulated': False, 'regularMarketChangePercent': -0.7627944, 'regularMarketPrice': 428.02, 'earningsTimestampStart': 1729594740, 'earningsTimestampEnd': 1730116800, 'earningsCallTimestampStart': 1722375000, 'earningsCallTimestampEnd': 1722375000, 'isEarningsDateEstimate': True, 'trailingAnnualDividendRate': 3.0, 'trailingPE': 36.242165, 'dividendRate': 3.32, 'trailingAnnualDividendYield': 0.0069555542, 'dividendYield': 0.78, 'epsTrailingTwelveMonths': 11.81, 'epsForward': 15.21, 'epsCurrentYear': 13.07, 'priceEpsCurrentYear': 32.74828, 'sharesOutstanding': 7433039872, 'bookValue': 36.115, 'fiftyDayAverage': 419.9102, 'fiftyDayAverageChange': 8.109802, 'fiftyDayAverageChangePercent': 0.019313183, 'twoHundredDayAverage': 415.3893, 'twoHundredDayAverageChange': 12.630676, 'twoHundredDayAverageChangePercent': 0.03040684, 'marketCap': 3181489684480, 'forwardPE': 28.140696, 'priceToBook': 11.851584, 'sourceInterval': 15, 'exchangeDataDelayedBy': 0, 'averageAnalystRating': '1.7 - Buy', 'tradeable': False, 'cryptoTradeable': False, 'displayName': 'Microsoft', 'symbol': 'MSFT'}], 'error': None}}\n",
            "\n",
            "Stock Information:\n",
            "  Ticker Target Mean Price  52 Week High  52 Week Low\n",
            "0   AAPL               N/A        237.23       164.08\n",
            "1  GOOGL               N/A        191.75       120.21\n",
            "2   MSFT               N/A        468.35       311.21\n"
          ]
        }
      ]
    },
    {
      "cell_type": "code",
      "source": [
        "# 5 of the current trending stock - hardcoded version - tried to make a call in code shown below but keep getting error 403 message\n",
        "\n",
        "trending_stock_tickers = [\"AMSC\", \"PWR\", \"VRT\", \"SNAP\", \"BBD\"]"
      ],
      "metadata": {
        "id": "i40VS89MjiuH"
      },
      "execution_count": 32,
      "outputs": []
    },
    {
      "cell_type": "code",
      "source": [
        "# DataFrame to display trending stocks\n",
        "trending_data = []\n",
        "for symbol in trending_stock_tickers:\n",
        "    trending_url = f\"https://www.alphavantage.co/query?function=GLOBAL_QUOTE&symbol={symbol}&apikey={api_key}\"\n",
        "    trending_response = requests.get(trending_url)\n",
        "    trending_stock_info = trending_response.json().get(\"Global Quote\", {})\n",
        "\n",
        "    trending_data.append({\n",
        "        \"Ticker\": symbol,\n",
        "        \"Price\": trending_stock_info.get(\"05. price\", \"N/A\"),\n",
        "        \"Change\": trending_stock_info.get(\"09. change\", \"N/A\"),\n",
        "        \"Change Percent\": trending_stock_info.get(\"10. change percent\", \"N/A\")\n",
        "    })\n",
        "\n",
        "# Convert into pandas data frame\n",
        "trending_df = pd.DataFrame(trending_data)\n",
        "print(\"\\nTrending Stocks:\")\n",
        "print(trending_df)\n",
        "\n",
        "# DataFrame to a CSV file\n",
        "csv_file = \"trending_stocks.csv\"\n",
        "trending_df.to_csv(csv_file, index=False)\n",
        "\n",
        "#print(f\"\\nTrending stocks saved to {csv_file}.\")"
      ],
      "metadata": {
        "colab": {
          "base_uri": "https://localhost:8080/"
        },
        "id": "BTWrl1NcqmA5",
        "outputId": "fd3518c3-693c-4431-d2d2-4dba4ff6c28f"
      },
      "execution_count": 36,
      "outputs": [
        {
          "output_type": "stream",
          "name": "stdout",
          "text": [
            "\n",
            "Trending Stocks:\n",
            "  Ticker     Price   Change Change Percent\n",
            "0   AMSC   22.9800   0.9200        4.1704%\n",
            "1    PWR  296.7400   0.3800        0.1282%\n",
            "2    VRT   98.4100  -2.2100       -2.1964%\n",
            "3   SNAP   10.8700   0.3100        2.9356%\n",
            "4    BBD    2.7100   0.0400        1.4981%\n"
          ]
        }
      ]
    },
    {
      "cell_type": "code",
      "source": [
        "# BONUS - Use MatPlotLib to chart the historical price of a stock price’s highest value over the past 5 days\n",
        "\n",
        "import matplotlib.pyplot as plt\n",
        "from datetime import datetime, timedelta\n",
        "\n",
        "apikey = \"\" #removed key for public repo\n",
        "ticker = \"AAPL\"  # Example stock (apple)\n",
        "\n",
        "# Get today's date and the date 5 days ago\n",
        "end_date = datetime.now()\n",
        "start_date = end_date - timedelta(days=5)\n",
        "\n",
        "#convert dates to strings\n",
        "start_date_str = start_date.strftime('%Y-%m-%d')\n",
        "end_date_str = end_date.strftime('%Y-%m-%d')\n",
        "\n",
        "# Define the URL for historical price data\n",
        "url = f\"https://yfapi.net/v8/finance/chart/{ticker}\"\n",
        "\n",
        "params = {\n",
        "    'range': '5d',\n",
        "    'interval': '1d',\n",
        "    'region': 'US',\n",
        "    'lang': 'en-US',\n",
        "    'includePrePost': 'false',\n",
        "    'events': 'div|split|earn',\n",
        "    'apikey': apikey\n",
        "}\n",
        "\n",
        "# historical stock data\n",
        "response = requests.get(url, params=params, headers={'X-API-KEY': apikey})\n",
        "\n",
        "if response.status_code == 200:\n",
        "    data = response.json()\n",
        "    timestamps = data['chart']['result'][0]['timestamp']\n",
        "    high_prices = data['chart']['result'][0]['indicators']['quote'][0]['high']\n",
        "\n",
        "# Plotting the highest prices over the last 5 days\n",
        "plt.figure(figsize=(10, 5))\n",
        "plt.plot(df['Date'], df['High Price'], marker='o', linestyle='-', color='b')\n",
        "plt.title(f'Highest Prices of {ticker} Over the Last 5 Days')\n",
        "plt.xlabel('Date')\n",
        "plt.ylabel('Price (USD)')\n",
        "plt.xticks(rotation=45)\n",
        "plt.grid()\n",
        "plt.tight_layout()\n",
        "\n",
        "# Show the plot\n",
        "plt.show()\n"
      ],
      "metadata": {
        "colab": {
          "base_uri": "https://localhost:8080/",
          "height": 507
        },
        "id": "TsEiMTIjxlwd",
        "outputId": "d9a94244-fb4a-455e-a9dc-6170563438fd"
      },
      "execution_count": 60,
      "outputs": [
        {
          "output_type": "display_data",
          "data": {
            "text/plain": [
              "<Figure size 1000x500 with 1 Axes>"
            ],
            "image/png": "[encoded data removed]"
          },
          "metadata": {}
        }
      ]
    },
    {
      "cell_type": "code",
      "source": [
        "# 5 trending stocks - unable to call/find them\n",
        "\n",
        "urltrends = \"https://yfapi.net/v1/finance/trending/US\"\n",
        "\n",
        "headers = {\n",
        "    \"api_key\": api_key,\n",
        "    \"Content-Type\": \"application/json\"\n",
        "}\n",
        "\n",
        "response = requests.get(url, headers=headers)\n",
        "\n",
        "if response.status_code == 200:\n",
        "    data = response.json()\n",
        "\n",
        "# List of trending stocks\n",
        "trending_stocks = data.get(\"finance\", {}).get(\"result\", [{}])[0].get(\"quotes\", [])\n",
        "\n",
        "# Are there trending stocks available?? Again looking at possible ways to handle errors\n",
        "if not trending_stocks:\n",
        "  print(\"No trending stocks found.\")\n",
        "else:\n",
        "  # Collect relevant data for the top 5 trending stocks\n",
        "  stock_data = []\n",
        "  for stock in trending_stocks[:5]:  # Only get the top 5 trending stocks\n",
        "    symbol = stock.get(\"symbol\", \"N/A\")\n",
        "    name = stock.get(\"shortName\", \"N/A\")\n",
        "    stock_data.append({\n",
        "      \"Ticker\": symbol,\n",
        "      \"Name\": name\n",
        "       })\n",
        ""
      ],
      "metadata": {
        "colab": {
          "base_uri": "https://localhost:8080/"
        },
        "id": "W2M2GMY7lV1j",
        "outputId": "7dc6510a-84bd-412d-88ab-c2913225a516"
      },
      "execution_count": 22,
      "outputs": [
        {
          "output_type": "stream",
          "name": "stdout",
          "text": [
            "No trending stocks found.\n"
          ]
        }
      ]
    },
    {
      "cell_type": "code",
      "source": [
        "\n",
        "#trending stocks - but getting an error - is it because too many requests or something wrong with my API key?\n",
        "\n",
        "apikey = \"\" #removed key for public repo\n",
        "url = \"https://yfapi.net/v1/finance/trending/US\"\n",
        "\n",
        "# Specify the headers with your API key\n",
        "headers = {\n",
        "    \"apikey\": apikey,\n",
        "    \"Content-Type\": \"application/json\"\n",
        "}\n",
        "\n",
        "# Fetch trending stocks\n",
        "response = requests.get(url, headers=headers)\n",
        "\n",
        "if response.status_code == 200:\n",
        "    data = response.json()\n",
        "    print(\"Full API Response:\")\n",
        "    print(data)  # Print the entire response for debugging\n",
        "\n",
        "    # Extract the list of trending stocks\n",
        "    trending_stocks = data.get(\"finance\", {}).get(\"result\", [{}])[0].get(\"quotes\", [])\n",
        "\n",
        "    # Check if there are trending stocks available\n",
        "    if not trending_stocks:\n",
        "        print(\"No trending stocks found.\")\n",
        "    else:\n",
        "        # Collect relevant data for the top 5 trending stocks\n",
        "        stock_data = []\n",
        "        for stock in trending_stocks[:5]:  # Only get the top 5 trending stocks\n",
        "            symbol = stock.get(\"symbol\", \"N/A\")\n",
        "            name = stock.get(\"shortName\", \"N/A\")\n",
        "            stock_data.append({\n",
        "                \"Ticker\": symbol,\n",
        "                \"Name\": name\n",
        "            })\n",
        "\n",
        "        # Create a pandas DataFrame for the top 5 trending stocks\n",
        "        trending_df = pd.DataFrame(stock_data)\n",
        "\n",
        "        # Display the top 5 trending stocks\n",
        "        print(\"\\nTop 5 Trending Stocks:\")\n",
        "        print(trending_df)\n",
        "\n",
        "        # Convert the DataFrame to a CSV file\n",
        "        csv_file_name = \"top_5_trending_stocks.csv\"\n",
        "        trending_df.to_csv(csv_file_name, index=False)\n",
        "        print(f\"\\nTop 5 trending stocks saved to {csv_file_name}.\")\n",
        "else:\n",
        "    print(f\"Failed to fetch trending stocks. HTTP Status Code: {response.status_code}\")"
      ],
      "metadata": {
        "colab": {
          "base_uri": "https://localhost:8080/"
        },
        "id": "ecYxJe_8qBoP",
        "outputId": "a9017728-54a9-4ba2-d086-f65a887acd5e"
      },
      "execution_count": 61,
      "outputs": [
        {
          "output_type": "stream",
          "name": "stdout",
          "text": [
            "Failed to fetch trending stocks. HTTP Status Code: 403\n"
          ]
        }
      ]
    }
  ]
}