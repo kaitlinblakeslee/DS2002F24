{
  "nbformat": 4,
  "nbformat_minor": 0,
  "metadata": {
    "colab": {
      "provenance": []
    },
    "kernelspec": {
      "name": "python3",
      "display_name": "Python 3"
    },
    "language_info": {
      "name": "python"
    }
  },
  "cells": [
    {
      "cell_type": "code",
      "execution_count": 4,
      "metadata": {
        "colab": {
          "base_uri": "https://localhost:8080/"
        },
        "id": "Mpp88gN_X4hh",
        "outputId": "7bf5499b-cde5-425a-d955-262307cfc855"
      },
      "outputs": [
        {
          "output_type": "stream",
          "name": "stdout",
          "text": [
            "  Unnamed: 0     Unnamed: 1 Unnamed: 2 Unnamed: 3      Unnamed: 4 Totals  \\\n",
            "0         Rk         Player      Class        Pos          School      G   \n",
            "1          1   Amaree Abram         SO          G    Georgia Tech     10   \n",
            "2          2   Sola Adebisi         FR          F   Florida State      7   \n",
            "3          3  Prince Aligbe         SO          F  Boston College     35   \n",
            "4          4     Abe Atiyeh         SR          G  Boston College      4   \n",
            "\n",
            "  Unnamed: 6 Unnamed: 7 Unnamed: 8 Unnamed: 9  ... Unnamed: 11 Unnamed: 12  \\\n",
            "0         MP        TRB        AST        STL  ...         TOV          PF   \n",
            "1        108         17         11          1  ...           9          10   \n",
            "2          9          1          1          0  ...           1           1   \n",
            "3        651        119         21         15  ...          30          51   \n",
            "4          6          0          0          0  ...           1           0   \n",
            "\n",
            "  Unnamed: 13 Shooting Unnamed: 15 Unnamed: 16 Unnamed: 17 Advanced  \\\n",
            "0         PTS      FG%         2P%         3P%         FT%      PER   \n",
            "1          34    0.262       0.318         0.2       0.615      4.1   \n",
            "2           2      0.5         0.5         NaN         NaN      3.5   \n",
            "3         164    0.435       0.522       0.147        0.62      9.4   \n",
            "4           3    0.333           0           1         NaN      1.1   \n",
            "\n",
            "  Unnamed: 19 Unnamed: 20  \n",
            "0          WS         BPM  \n",
            "1        -0.1        -6.4  \n",
            "2           0        -6.7  \n",
            "3         0.9        -1.3  \n",
            "4           0        -8.2  \n",
            "\n",
            "[5 rows x 21 columns]\n"
          ]
        }
      ],
      "source": [
        "import pandas as pd\n",
        "\n",
        "#load csv into a data frame\n",
        "\n",
        "df = pd.read_csv('acc_players-2324F.csv')\n",
        "\n",
        "# display first 5 rows of data frame\n",
        "\n",
        "print(df.head())"
      ]
    },
    {
      "cell_type": "code",
      "source": [
        "# basic analysis\n",
        "\n",
        "# calculate total points scored by all players combined\n",
        "\n",
        "df['Unnamed: 13'] = pd.to_numeric(df['Unnamed: 13'], errors='coerce')\n",
        "\n",
        "total_points = df[('Unnamed: 13')].sum()\n",
        "\n",
        "print(total_points)\n",
        "\n"
      ],
      "metadata": {
        "colab": {
          "base_uri": "https://localhost:8080/"
        },
        "id": "ddhAX0wzZndx",
        "outputId": "f125c03a-a7d6-4ee8-8986-3a54814e8e60"
      },
      "execution_count": 12,
      "outputs": [
        {
          "output_type": "stream",
          "name": "stdout",
          "text": [
            "38411.0\n"
          ]
        }
      ]
    },
    {
      "cell_type": "code",
      "source": [
        "# player who has played the most minutes\n",
        "\n",
        "df['Unnamed: 6'] = pd.to_numeric(df['Unnamed: 6'], errors='coerce')\n",
        "\n",
        "max_mp_player = df.loc[df['Unnamed: 6'].idxmax(), 'Unnamed: 1']\n",
        "\n",
        "print(max_mp_player)"
      ],
      "metadata": {
        "colab": {
          "base_uri": "https://localhost:8080/"
        },
        "id": "ZcSWgHaldpTJ",
        "outputId": "763378cd-0d6b-488c-e9a6-22a4676e3ae9"
      },
      "execution_count": 13,
      "outputs": [
        {
          "output_type": "stream",
          "name": "stdout",
          "text": [
            "Casey Morsell\n"
          ]
        }
      ]
    },
    {
      "cell_type": "code",
      "source": [
        "# identify the top 5 players in terms of total rebounds (TRB)\n",
        "\n",
        "df['Unnamed: 7'] = pd.to_numeric(df['Unnamed: 7'], errors='coerce')\n",
        "df['Unnamed: 8'] = pd.to_numeric(df['Unnamed: 8'], errors='coerce')\n",
        "df['Unnamed: 11'] = pd.to_numeric(df['Unnamed: 11'], errors='coerce')\n",
        "\n",
        "total_rebounds = df.groupby('Unnamed: 1')['Unnamed: 7'].sum().reset_index()\n",
        "\n",
        "top_5_players = total_rebounds.sort_values(by='Unnamed: 7', ascending=False).head(5)\n",
        "print(top_5_players)"
      ],
      "metadata": {
        "colab": {
          "base_uri": "https://localhost:8080/"
        },
        "id": "QzSLP2HNeO-U",
        "outputId": "cbf019b6-ca03-4638-c6f7-30d345e4c784"
      },
      "execution_count": 19,
      "outputs": [
        {
          "output_type": "stream",
          "name": "stdout",
          "text": [
            "          Unnamed: 1  Unnamed: 7\n",
            "13     Armando Bacot       380.0\n",
            "81   Ian Schieffelin       340.0\n",
            "77   Harrison Ingram       327.0\n",
            "156   Mohamed Diarra       311.0\n",
            "165    Norchad Omier       309.0\n"
          ]
        }
      ]
    },
    {
      "cell_type": "code",
      "source": [
        "# player filtering\n",
        "\n",
        "# create a new dataframe containing only players who played more than 500 minutes\n",
        "\n",
        "players_over = df[df['Unnamed: 6'] > 500]\n",
        "\n",
        "print(players_over)"
      ],
      "metadata": {
        "colab": {
          "base_uri": "https://localhost:8080/"
        },
        "id": "EBYoM5KZfGEl",
        "outputId": "f46ed853-a34c-41ec-8d62-0e3886740642"
      },
      "execution_count": 15,
      "outputs": [
        {
          "output_type": "stream",
          "name": "stdout",
          "text": [
            "    Unnamed: 0        Unnamed: 1 Unnamed: 2 Unnamed: 3      Unnamed: 4 Totals  \\\n",
            "3            3     Prince Aligbe         SO          F  Boston College     35   \n",
            "5            5       Zack Austin         JR          F      Pittsburgh     33   \n",
            "6            6     Armando Bacot         SR          F  North Carolina     37   \n",
            "8            8     Reece Beekman         SR          G        Virginia     34   \n",
            "10          10        Chris Bell         SO          F        Syracuse     32   \n",
            "..         ...               ...        ...        ...             ...    ...   \n",
            "204        204     Jamir Watkins         JR          F   Florida State     33   \n",
            "207        207         Tre White         SO          G      Louisville     29   \n",
            "208        208  Chauncey Wiggins         SO          F         Clemson     36   \n",
            "210        210   Curtis Williams         FR          G      Louisville     32   \n",
            "216        216    Jaeden Zackery         JR          G  Boston College     36   \n",
            "\n",
            "     Unnamed: 6  Unnamed: 7 Unnamed: 8 Unnamed: 9  ... Unnamed: 11  \\\n",
            "3         651.0       119.0         21         15  ...          30   \n",
            "5         746.0       137.0         29         32  ...          13   \n",
            "6        1123.0       380.0         56         22  ...          60   \n",
            "8        1114.0       124.0        212         68  ...          70   \n",
            "10        865.0        75.0         21         18  ...          26   \n",
            "..          ...         ...        ...        ...  ...         ...   \n",
            "204       928.0       199.0         91         64  ...          84   \n",
            "207       907.0       170.0         39         24  ...          53   \n",
            "208       639.0        76.0         33          6  ...          26   \n",
            "210       564.0        42.0         20         12  ...          26   \n",
            "216      1216.0       119.0        152         63  ...          71   \n",
            "\n",
            "    Unnamed: 12 Unnamed: 13  Shooting Unnamed: 15 Unnamed: 16 Unnamed: 17  \\\n",
            "3            51       164.0     0.435       0.522       0.147        0.62   \n",
            "5            35       216.0     0.417       0.563       0.295       0.737   \n",
            "6           100       538.0      0.54       0.544         0.4       0.781   \n",
            "8            43       486.0     0.443       0.487        0.31       0.754   \n",
            "10           58       384.0     0.434       0.459        0.42       0.842   \n",
            "..          ...         ...       ...         ...         ...         ...   \n",
            "204          92       514.0     0.457         0.5       0.344       0.795   \n",
            "207          66       357.0     0.456       0.515       0.299       0.752   \n",
            "208          46       196.0     0.442       0.528       0.349       0.714   \n",
            "210          24       170.0     0.317       0.373       0.287       0.714   \n",
            "216          78       408.0     0.484       0.511       0.405       0.824   \n",
            "\n",
            "    Advanced Unnamed: 19 Unnamed: 20  \n",
            "3        9.4         0.9        -1.3  \n",
            "5         18         2.9         7.9  \n",
            "6       24.6         6.1         8.9  \n",
            "8       23.4         4.9        10.5  \n",
            "10      14.9         2.2         3.3  \n",
            "..       ...         ...         ...  \n",
            "204     24.2         3.9         9.1  \n",
            "207       15         1.7         1.8  \n",
            "208       11         1.2         1.9  \n",
            "210      5.9        -0.2        -3.8  \n",
            "216     16.4         3.7         3.5  \n",
            "\n",
            "[98 rows x 21 columns]\n"
          ]
        }
      ]
    },
    {
      "cell_type": "code",
      "source": [
        "# find player with highest total assists from new data frame\n",
        "\n",
        "max_assists = players_over.loc[players_over['Unnamed: 8'].idxmax(), 'Unnamed: 1']\n",
        "\n",
        "print(max_assists)"
      ],
      "metadata": {
        "colab": {
          "base_uri": "https://localhost:8080/"
        },
        "id": "DYQaayevgXy2",
        "outputId": "bc1dd477-7adc-431a-8650-6cfa428cfe29"
      },
      "execution_count": 17,
      "outputs": [
        {
          "output_type": "stream",
          "name": "stdout",
          "text": [
            "Jalen Warley\n"
          ]
        }
      ]
    },
    {
      "cell_type": "code",
      "source": [
        "# top 3 assist leads in the league\n",
        "\n",
        "assists = players_over.groupby('Unnamed: 1')['Unnamed: 8'].sum().reset_index()\n",
        "\n",
        "top_3_players = assists.sort_values(by='Unnamed: 8', ascending=False).head(3)\n",
        "print(top_3_players)"
      ],
      "metadata": {
        "colab": {
          "base_uri": "https://localhost:8080/"
        },
        "id": "aIVrP26wg0lK",
        "outputId": "83abeafe-1530-4a3a-d5bc-de9be08a7ad0"
      },
      "execution_count": 18,
      "outputs": [
        {
          "output_type": "stream",
          "name": "stdout",
          "text": [
            "         Unnamed: 1 Unnamed: 8\n",
            "45     Jalen Warley         92\n",
            "46    Jamir Watkins         91\n",
            "58  Kyle Sturdivant         91\n"
          ]
        }
      ]
    },
    {
      "cell_type": "code",
      "source": [
        "# top 3 shot blockers\n",
        "\n",
        "blocks = players_over.groupby('Unnamed: 1')['Unnamed: 11'].sum().reset_index()\n",
        "\n",
        "top_3_blockers = blocks.sort_values(by='Unnamed: 11', ascending=False).head(3)\n",
        "print(top_3_blockers)\n",
        "\n"
      ],
      "metadata": {
        "colab": {
          "base_uri": "https://localhost:8080/"
        },
        "id": "faeaFmdRhI6n",
        "outputId": "b1a70b4c-38de-448e-b5b7-5376935d5c80"
      },
      "execution_count": 20,
      "outputs": [
        {
          "output_type": "stream",
          "name": "stdout",
          "text": [
            "             Unnamed: 1 Unnamed: 11\n",
            "51          Judah Mintz          94\n",
            "76  Parker Friedrichsen           9\n",
            "88           Skyy Clark          88\n"
          ]
        }
      ]
    },
    {
      "cell_type": "code",
      "source": [
        "# school-based analysis\n",
        "\n",
        "#group the players by school and calculate the total points scored by each school\n",
        "\n",
        "schools = df.groupby('Unnamed: 4')['Unnamed: 13'].sum().reset_index()\n",
        "\n",
        "print(schools)"
      ],
      "metadata": {
        "colab": {
          "base_uri": "https://localhost:8080/"
        },
        "id": "d8N7M0qohgWY",
        "outputId": "dbd08148-2975-4c1c-918b-e20794fecca3"
      },
      "execution_count": 23,
      "outputs": [
        {
          "output_type": "stream",
          "name": "stdout",
          "text": [
            "        Unnamed: 4  Unnamed: 13\n",
            "0   Boston College       2667.0\n",
            "1          Clemson       2785.0\n",
            "2             Duke       2830.0\n",
            "3    Florida State       2526.0\n",
            "4     Georgia Tech       2272.0\n",
            "5       Louisville       2304.0\n",
            "6       Miami (FL)       2424.0\n",
            "7         NC State       3101.0\n",
            "8   North Carolina       3032.0\n",
            "9       Notre Dame       2113.0\n",
            "10      Pittsburgh       2495.0\n",
            "11          School          0.0\n",
            "12        Syracuse       2442.0\n",
            "13        Virginia       2140.0\n",
            "14   Virginia Tech       2547.0\n",
            "15     Wake Forest       2733.0\n"
          ]
        }
      ]
    },
    {
      "cell_type": "code",
      "source": [
        "# group players by school and calculate the total assists for each team\n",
        "\n",
        "school_assists = df.groupby('Unnamed: 4')['Unnamed: 8'].sum().reset_index()\n",
        "\n",
        "print(school_assists)"
      ],
      "metadata": {
        "colab": {
          "base_uri": "https://localhost:8080/"
        },
        "id": "t2s_skZgiXrc",
        "outputId": "1a22e056-11b0-4617-91fe-39eb29b99956"
      },
      "execution_count": 24,
      "outputs": [
        {
          "output_type": "stream",
          "name": "stdout",
          "text": [
            "        Unnamed: 4  Unnamed: 8\n",
            "0   Boston College       509.0\n",
            "1          Clemson       533.0\n",
            "2             Duke       551.0\n",
            "3    Florida State       406.0\n",
            "4     Georgia Tech       425.0\n",
            "5       Louisville       356.0\n",
            "6       Miami (FL)       454.0\n",
            "7         NC State       536.0\n",
            "8   North Carolina       536.0\n",
            "9       Notre Dame       335.0\n",
            "10      Pittsburgh       452.0\n",
            "11          School         0.0\n",
            "12        Syracuse       442.0\n",
            "13        Virginia       509.0\n",
            "14   Virginia Tech       514.0\n",
            "15     Wake Forest       429.0\n"
          ]
        }
      ]
    },
    {
      "cell_type": "code",
      "source": [
        "# sort the schools by total points scored and display the top 3 schools\n",
        "\n",
        "top_3_schools = schools.sort_values(by='Unnamed: 13', ascending=False).head(3)\n",
        "print(top_3_schools)"
      ],
      "metadata": {
        "colab": {
          "base_uri": "https://localhost:8080/"
        },
        "id": "_l_Y2VADiy0t",
        "outputId": "91ec0120-e809-4c1c-98ae-ba7692db24a1"
      },
      "execution_count": 25,
      "outputs": [
        {
          "output_type": "stream",
          "name": "stdout",
          "text": [
            "       Unnamed: 4  Unnamed: 13\n",
            "7        NC State       3101.0\n",
            "8  North Carolina       3032.0\n",
            "2            Duke       2830.0\n"
          ]
        }
      ]
    },
    {
      "cell_type": "markdown",
      "source": [
        "Reflection:\n",
        "\n",
        "By completing this assignment, I was able to practice the csv and pandas techniques we discussed in class. I learned more about reading data within a data frame and how to access the specific piece of data that I want to analyze. In this assignment, I mainly utilized the loc[] and\n",
        "groupby() functions that I now feel way more proficient in then before I completed the assignment. The groupby() function is an easy way to filter the data or basically create a new, more specific data frame when you want to hone in on only a few variables. I also got practice using the idmax() and sum() functions in order to perform some basic data analytics. All of these techniques will be helpful in future data science projects.\n",
        "\n",
        "The most challenging part of this assignment was honestly just understanding the data and how it was formatted in the data frame. It took me a while to realize that most of the columns were under 'Unnamed' and then the number of the column. In retrospect, I should've changed the names to all of the columns in the very beginning to make this easier and my code more clear/readable. Additionally, many of the data types for these columns needed to be coerced to numeric integer values in order to be summed or analyzed. This was another piece of information that I forgot to check for and then was later confused upon receiving errors. So as a whole, the data cleaning or simply understanding was definitely most challenging for me.\n",
        "\n",
        "The insights gained from analyzing ACC basketball statistics can be applied to many other fields and many other data sets. Most data sets in business models will include numeric statistical information about expenses, earnings, assets, investments, etc., and the same data science techniques I used in this assignment I can apply to any basic statistical analysis. In terms of data science challenges, this assignment forced me to problem-solve and think about the structure of the data. These are important considerations in data science. Many data frames will have missing values or will be in the incorrect format/data type and fixing these issues is crucial when analyzing data."
      ],
      "metadata": {
        "id": "B9e9BtcmjQiH"
      }
    }
  ]
}